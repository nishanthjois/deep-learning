{
 "cells": [
  {
   "cell_type": "code",
   "execution_count": 1,
   "metadata": {
    "collapsed": false
   },
   "outputs": [
    {
     "name": "stderr",
     "output_type": "stream",
     "text": [
      "Using TensorFlow backend.\n"
     ]
    }
   ],
   "source": [
    "import tensorflow as tf\n",
    "import keras \n",
    "import numpy as np\n",
    "import matplotlib.pyplot as plt\n",
    "import pandas as pd"
   ]
  },
  {
   "cell_type": "code",
   "execution_count": 11,
   "metadata": {
    "collapsed": false
   },
   "outputs": [],
   "source": [
    "from keras.layers import Flatten\n",
    "from keras.layers import Dense\n",
    "from keras.models import Sequential\n",
    "from keras.layers import Conv2D,MaxPooling2D\n",
    "from keras.layers import Dense"
   ]
  },
  {
   "cell_type": "code",
   "execution_count": 15,
   "metadata": {
    "collapsed": false
   },
   "outputs": [],
   "source": [
    "classifier = Sequential()\n",
    "classifier.add(Conv2D(32,3,3,input_shape=(64,64,3),activation='relu'))\n",
    "classifier.add(MaxPooling2D(pool_size=(2,2)))\n",
    "classifier.add(Flatten())\n",
    "classifier.add(Dense(output_dim=128,activation='relu'))\n",
    "classifier.add(Dense(output_dim=1,activation='sigmoid'))"
   ]
  },
  {
   "cell_type": "code",
   "execution_count": 19,
   "metadata": {
    "collapsed": false
   },
   "outputs": [],
   "source": [
    "classifier.compile(optimizer='adam',loss='mean_squared_error',metrics=['accuracy'])"
   ]
  },
  {
   "cell_type": "code",
   "execution_count": 20,
   "metadata": {
    "collapsed": true
   },
   "outputs": [],
   "source": [
    "from keras.preprocessing.image import ImageDataGenerator"
   ]
  },
  {
   "cell_type": "code",
   "execution_count": 61,
   "metadata": {
    "collapsed": false
   },
   "outputs": [
    {
     "name": "stdout",
     "output_type": "stream",
     "text": [
      "Found 84 images belonging to 2 classes.\n",
      "Found 12 images belonging to 2 classes.\n",
      "Epoch 1/10\n",
      "64/42 [=============================================] - 0s - loss: 0.2498 - acc: 0.7188 - val_loss: 0.2618 - val_acc: 0.6667\n",
      "Epoch 2/10\n",
      "20/42 [=============>................] - ETA: 0s - loss: 0.3649 - acc: 0.4500"
     ]
    },
    {
     "name": "stderr",
     "output_type": "stream",
     "text": [
      "/home/nj/anaconda3/lib/python3.5/site-packages/keras/engine/training.py:1527: UserWarning: Epoch comprised more than `samples_per_epoch` samples, which might affect learning results. Set `samples_per_epoch` correctly to avoid this warning.\n",
      "  warnings.warn('Epoch comprised more than '\n"
     ]
    },
    {
     "name": "stdout",
     "output_type": "stream",
     "text": [
      "52/42 [=====================================] - 0s - loss: 0.2311 - acc: 0.6923 - val_loss: 0.1281 - val_acc: 0.8333\n",
      "Epoch 3/10\n",
      "52/42 [=====================================] - 0s - loss: 0.1428 - acc: 0.8269 - val_loss: 0.1680 - val_acc: 0.7500\n",
      "Epoch 4/10\n",
      "64/42 [=============================================] - 0s - loss: 0.1938 - acc: 0.6875 - val_loss: 0.1701 - val_acc: 0.7500\n",
      "Epoch 5/10\n",
      "52/42 [=====================================] - 0s - loss: 0.1741 - acc: 0.7885 - val_loss: 0.0584 - val_acc: 0.8333\n",
      "Epoch 6/10\n",
      "52/42 [=====================================] - 0s - loss: 0.0408 - acc: 0.9423 - val_loss: 0.1027 - val_acc: 0.9167\n",
      "Epoch 7/10\n",
      "64/42 [=============================================] - 0s - loss: 0.1356 - acc: 0.8125 - val_loss: 0.0625 - val_acc: 0.9167\n",
      "Epoch 8/10\n",
      "52/42 [=====================================] - 0s - loss: 0.0540 - acc: 0.9423 - val_loss: 0.0108 - val_acc: 1.0000\n",
      "Epoch 9/10\n",
      "52/42 [=====================================] - 0s - loss: 0.0351 - acc: 0.9423 - val_loss: 0.0226 - val_acc: 1.0000\n",
      "Epoch 10/10\n",
      "64/42 [=============================================] - 0s - loss: 0.0355 - acc: 0.9844 - val_loss: 0.0021 - val_acc: 1.0000\n"
     ]
    },
    {
     "data": {
      "text/plain": [
       "<keras.callbacks.History at 0x7f12b40b9b00>"
      ]
     },
     "execution_count": 61,
     "metadata": {},
     "output_type": "execute_result"
    }
   ],
   "source": [
    "train_set = ImageDataGenerator(\n",
    "        rescale=1./255,\n",
    "        shear_range=0.2,\n",
    "        zoom_range=0.2,\n",
    "        horizontal_flip=True)\n",
    "\n",
    "test_set = ImageDataGenerator(rescale=1./255)\n",
    "\n",
    "train_generator = train_set.flow_from_directory(\n",
    "        'data/train',\n",
    "        target_size=(64, 64),\n",
    "        batch_size=32,\n",
    "        class_mode='binary')\n",
    "\n",
    "validation_generator = test_set.flow_from_directory(\n",
    "        'data/test',\n",
    "        target_size=(64, 64),\n",
    "        batch_size=32,\n",
    "        class_mode='binary')\n",
    "\n",
    "\n",
    "classifier.fit_generator(\n",
    "        train_generator,\n",
    "        samples_per_epoch=42,\n",
    "        nb_epoch=10,\n",
    "        validation_data=validation_generator,nb_val_samples=42)"
   ]
  },
  {
   "cell_type": "code",
   "execution_count": 68,
   "metadata": {
    "collapsed": false
   },
   "outputs": [
    {
     "data": {
      "image/png": "[encoded data removed]",
      "text/plain": [
       "<PIL.Image.Image image mode=RGB size=64x64 at 0x7F12B40444A8>"
      ]
     },
     "execution_count": 68,
     "metadata": {},
     "output_type": "execute_result"
    }
   ],
   "source": [
    "import numpy as np\n",
    "from keras.preprocessing import image\n",
    "test_image  = image.load_img('data/try/cat1.jpg',target_size=(64,64))\n",
    "test_image"
   ]
  },
  {
   "cell_type": "code",
   "execution_count": 69,
   "metadata": {
    "collapsed": false
   },
   "outputs": [
    {
     "data": {
      "text/plain": [
       "array([[[ 124.,  118.,  118.],\n",
       "        [ 148.,  142.,  142.],\n",
       "        [ 159.,  153.,  155.],\n",
       "        ..., \n",
       "        [  57.,   48.,   43.],\n",
       "        [  54.,   45.,   46.],\n",
       "        [  51.,   42.,   43.]],\n",
       "\n",
       "       [[ 124.,  118.,  118.],\n",
       "        [ 149.,  143.,  145.],\n",
       "        [ 161.,  155.,  157.],\n",
       "        ..., \n",
       "        [  58.,   49.,   44.],\n",
       "        [  54.,   45.,   46.],\n",
       "        [  52.,   43.,   44.]],\n",
       "\n",
       "       [[ 121.,  117.,  118.],\n",
       "        [ 147.,  143.,  144.],\n",
       "        [ 161.,  156.,  160.],\n",
       "        ..., \n",
       "        [  59.,   50.,   45.],\n",
       "        [  55.,   46.,   47.],\n",
       "        [  53.,   44.,   45.]],\n",
       "\n",
       "       ..., \n",
       "       [[ 131.,  125.,  127.],\n",
       "        [ 119.,  113.,  115.],\n",
       "        [ 116.,  110.,  112.],\n",
       "        ..., \n",
       "        [  65.,   43.,   30.],\n",
       "        [  51.,   37.,   34.],\n",
       "        [  46.,   35.,   31.]],\n",
       "\n",
       "       [[ 127.,  121.,  123.],\n",
       "        [ 115.,  109.,  111.],\n",
       "        [ 113.,  107.,  109.],\n",
       "        ..., \n",
       "        [  62.,   43.,   29.],\n",
       "        [  49.,   38.,   34.],\n",
       "        [  45.,   34.,   30.]],\n",
       "\n",
       "       [[ 122.,  116.,  118.],\n",
       "        [ 112.,  106.,  108.],\n",
       "        [ 110.,  104.,  106.],\n",
       "        ..., \n",
       "        [  60.,   42.,   28.],\n",
       "        [  47.,   38.,   33.],\n",
       "        [  43.,   34.,   29.]]], dtype=float32)"
      ]
     },
     "execution_count": 69,
     "metadata": {},
     "output_type": "execute_result"
    }
   ],
   "source": [
    "test_image = image.img_to_array(test_image)\n",
    "test_image"
   ]
  },
  {
   "cell_type": "code",
   "execution_count": 70,
   "metadata": {
    "collapsed": false
   },
   "outputs": [
    {
     "data": {
      "text/plain": [
       "array([[ 0.]], dtype=float32)"
      ]
     },
     "execution_count": 70,
     "metadata": {},
     "output_type": "execute_result"
    }
   ],
   "source": [
    "#convert from 64,64,3 to 4 dimension (1,64,64,3), 4th dimesion is batch\n",
    "\n",
    "test_image = np.expand_dims(test_image,axis=0) \n",
    "classifier.predict(test_image)"
   ]
  },
  {
   "cell_type": "code",
   "execution_count": null,
   "metadata": {
    "collapsed": true
   },
   "outputs": [],
   "source": []
  },
  {
   "cell_type": "code",
   "execution_count": null,
   "metadata": {
    "collapsed": true
   },
   "outputs": [],
   "source": []
  }
 ],
 "metadata": {
  "anaconda-cloud": {},
  "kernelspec": {
   "display_name": "Python [conda root]",
   "language": "python",
   "name": "conda-root-py"
  },
  "language_info": {
   "codemirror_mode": {
    "name": "ipython",
    "version": 3
   },
   "file_extension": ".py",
   "mimetype": "text/x-python",
   "name": "python",
   "nbconvert_exporter": "python",
   "pygments_lexer": "ipython3",
   "version": "3.5.2"
  }
 },
 "nbformat": 4,
 "nbformat_minor": 2
}
