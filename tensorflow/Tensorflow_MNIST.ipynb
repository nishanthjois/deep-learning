{
 "cells": [
  {
   "cell_type": "markdown",
   "metadata": {},
   "source": [
    "Ref: https://www.youtube.com/watch?v=PwAGxqrXSCs"
   ]
  },
  {
   "cell_type": "markdown",
   "metadata": {
    "collapsed": true
   },
   "source": [
    "## Basic neural and network"
   ]
  },
  {
   "cell_type": "markdown",
   "metadata": {},
   "source": [
    "![](1.png)"
   ]
  },
  {
   "cell_type": "markdown",
   "metadata": {},
   "source": [
    "![](2.png)"
   ]
  },
  {
   "cell_type": "markdown",
   "metadata": {},
   "source": [
    "### Basic example"
   ]
  },
  {
   "cell_type": "code",
   "execution_count": 33,
   "metadata": {
    "collapsed": false
   },
   "outputs": [
    {
     "name": "stdout",
     "output_type": "stream",
     "text": [
      "Tensor(\"Mul_6:0\", shape=(), dtype=int32)\n",
      "30\n",
      "30\n"
     ]
    }
   ],
   "source": [
    "import tensorflow as tf\n",
    "x1= tf.constant(5)\n",
    "x2=tf.constant(6)\n",
    "\n",
    "result = tf.multiply(x1,x2)\n",
    "\n",
    "print (result) # no computation happens here, we just defined a model, output is a tensor in computational block\n",
    "\n",
    "\n",
    "with tf.Session():\n",
    "    output = sess.run(result)\n",
    "    print (output)\n",
    "\n",
    "print (output)    \n"
   ]
  },
  {
   "cell_type": "markdown",
   "metadata": {},
   "source": [
    "## Tensorflow for MNIST data set"
   ]
  },
  {
   "cell_type": "markdown",
   "metadata": {
    "collapsed": true
   },
   "source": [
    "Let's build a simple DNN using tensorflow with MNIST data set.\n",
    "MNSIT data set contains 60000 thousand 28*28 pixel B&W images of handwritten digitis\n",
    "\n",
    "Objective is to predict digit with a new image."
   ]
  },
  {
   "cell_type": "markdown",
   "metadata": {
    "collapsed": true
   },
   "source": [
    "Each of feature is a pixel value (i.e., 0 or 1) using these features our neural network is  going to model if the number if 7 or 11 or whatever"
   ]
  },
  {
   "cell_type": "markdown",
   "metadata": {
    "collapsed": true
   },
   "source": [
    "- We will send input data > weight > hidden layer > activation function > weights > hidden layer 2 > activation function > weights > output layer\n",
    "\n",
    "- This is feedforward network\n",
    "- We will compare the output with expected output using cost/loss function (ex: cross entropy)\n",
    "- then we will use optimizer - this make an attempt to minimze the cost/loss (ex: AdamOptimizer, SGD, AdaGrad ... )\n",
    "- What optimizer does is - it goes backwards, manipulates weights - this is backpropagation\n",
    "\n",
    "\n",
    "- 1 Feed forward + 1 backprop = 1 Epoch\n",
    "- After every epoch - the cost function will come down.\n",
    "\n",
    "\n",
    "\n"
   ]
  },
  {
   "cell_type": "code",
   "execution_count": 34,
   "metadata": {
    "collapsed": false
   },
   "outputs": [
    {
     "name": "stdout",
     "output_type": "stream",
     "text": [
      "Extracting /tmp/data/train-images-idx3-ubyte.gz\n",
      "Extracting /tmp/data/train-labels-idx1-ubyte.gz\n",
      "Extracting /tmp/data/t10k-images-idx3-ubyte.gz\n",
      "Extracting /tmp/data/t10k-labels-idx1-ubyte.gz\n"
     ]
    }
   ],
   "source": [
    "from tensorflow.examples.tutorials.mnist import input_data\n",
    "mnist = input_data.read_data_sets(\"/tmp/data\",one_hot=True)\n",
    "# one hot is useful for multiclass classification - ex: digit 1 can be represented as \n",
    "# 010000000 and 3 can be represented as 0001000000\n",
    "# 0 = [1,0,0,0,0,0,0,0,0,0]"
   ]
  },
  {
   "cell_type": "code",
   "execution_count": 44,
   "metadata": {
    "collapsed": true
   },
   "outputs": [],
   "source": [
    "# 3 hidden layers\n",
    "n_nodes_h1=100 \n",
    "n_nodes_h2=100\n",
    "n_nodes_h3=100"
   ]
  },
  {
   "cell_type": "code",
   "execution_count": 45,
   "metadata": {
    "collapsed": false
   },
   "outputs": [],
   "source": [
    "# number of classes = 10\n",
    "n_classes = 10 # outputs - 0 to 9\n",
    "\n",
    "# batch size is number of images we will feed at one time \n",
    "# - we cannot feed 60000 images at one time - we can but depends on your RAM size\n",
    "batch_size = 100 \n",
    "\n",
    "# 28 * 28 = 784 - we have flattened our input. Height = None, Width = 784\n",
    "x=tf.placeholder('float') \n",
    "y = tf.placeholder('float')\n",
    "\n",
    "def model(data):\n",
    "    # (input data * weights + biases)\n",
    "    # Why bias? Imagine if any of the input data is zero?\n",
    "    hidden_1_layer={'weights':tf.Variable(tf.random_normal([784,n_nodes_h1])),\n",
    "                   'biases':tf.Variable(tf.random_normal([n_nodes_h1]))}\n",
    "    hidden_2_layer={'weights':tf.Variable(tf.random_normal([n_nodes_h1,n_nodes_h2])),\n",
    "                   'biases':tf.Variable(tf.random_normal([n_nodes_h2]))}\n",
    "    hidden_3_layer={'weights':tf.Variable(tf.random_normal([n_nodes_h2,n_nodes_h3])),\n",
    "                   'biases':tf.Variable(tf.random_normal([n_nodes_h3]))}\n",
    "    output_layer={'weights':tf.Variable(tf.random_normal([n_nodes_h3,n_classes])),\n",
    "                   'biases':tf.Variable(tf.random_normal([n_classes]))}\n",
    "    \n",
    "    \n",
    "    l1 = tf.add(tf.matmul(data,hidden_1_layer['weights']),hidden_1_layer['biases'])\n",
    "    l1 = tf.nn.relu(l1) # activation function\n",
    "    \n",
    "    l2 = tf.add(tf.matmul(l1,hidden_2_layer['weights']),hidden_2_layer['biases'])\n",
    "    l2 = tf.nn.relu(l2) # activation function\n",
    "    \n",
    "    l3 = tf.add(tf.matmul(l2,hidden_3_layer['weights']),hidden_3_layer['biases'])\n",
    "    l3 = tf.nn.relu(l3) # activation function\n",
    "    \n",
    "\n",
    "    output = tf.add(tf.matmul(l3,output_layer['weights']),output_layer['biases'])\n",
    "    \n",
    "    return output\n",
    "\n",
    "#Computatinal graph is ready now lets tell tensorflow what to do with it\n",
    "    \n",
    "    \n",
    "    "
   ]
  },
  {
   "cell_type": "code",
   "execution_count": 49,
   "metadata": {
    "collapsed": true
   },
   "outputs": [],
   "source": [
    "def train_model(x):\n",
    "    prediction = model(x) # get output here\n",
    "    # find: prediction vs known output (i.e., 'y') difference\n",
    "    #cost = tf.reduce_mean(tf.nn.softmax_cross_entropy_with_logits(prediction,y))\n",
    "    cost = tf.reduce_mean(tf.nn.softmax_cross_entropy_with_logits(logits=prediction, labels=y)) \n",
    "    # reduce the cost using optimizer\n",
    "    optimizer = tf.train.AdamOptimizer().minimize(cost)\n",
    "    \n",
    "    n_epochs = 5 #10\n",
    "    \n",
    "    with tf.Session() as sess:\n",
    "        #sess.run(tf.initialize_all_variables())\n",
    "        sess.run(tf.global_variables_initializer())\n",
    "        for epoch in range (n_epochs):\n",
    "            epoch_loss = 0\n",
    "            for _ in range(int(mnist.train.num_examples/batch_size)):\n",
    "                epoch_x,epoch_y = mnist.train.next_batch(batch_size)\n",
    "                _,c = sess.run([optimizer,cost],feed_dict = {x:epoch_x,y:epoch_y})\n",
    "                epoch_loss+=c\n",
    "            print ('Epoch', epoch, 'completed out _of', n_epochs, 'loss:', epoch_loss) \n",
    "            \n",
    "        correct = tf.equal(tf.argmax(prediction,1),tf.argmax(y,1))\n",
    "        accuracy = tf.reduce_mean(tf.cast(correct,'float'))\n",
    "        print ('Accuracy:', accuracy.eval({x:mnist.test.images,y:mnist.test.labels}))\n",
    "                \n",
    "    \n",
    "    "
   ]
  },
  {
   "cell_type": "code",
   "execution_count": 50,
   "metadata": {
    "collapsed": false
   },
   "outputs": [
    {
     "name": "stdout",
     "output_type": "stream",
     "text": [
      "Epoch 0 completed out _of 5 loss: 226551.395226\n",
      "Epoch 1 completed out _of 5 loss: 57056.2802792\n",
      "Epoch 2 completed out _of 5 loss: 35981.9243736\n",
      "Epoch 3 completed out _of 5 loss: 25686.6214771\n",
      "Epoch 4 completed out _of 5 loss: 19431.6357813\n",
      "Accuracy: 0.8858\n"
     ]
    }
   ],
   "source": [
    "train_model(x)"
   ]
  },
  {
   "cell_type": "code",
   "execution_count": null,
   "metadata": {
    "collapsed": true
   },
   "outputs": [],
   "source": []
  }
 ],
 "metadata": {
  "anaconda-cloud": {},
  "kernelspec": {
   "display_name": "Python [conda root]",
   "language": "python",
   "name": "conda-root-py"
  },
  "language_info": {
   "codemirror_mode": {
    "name": "ipython",
    "version": 3
   },
   "file_extension": ".py",
   "mimetype": "text/x-python",
   "name": "python",
   "nbconvert_exporter": "python",
   "pygments_lexer": "ipython3",
   "version": "3.5.2"
  }
 },
 "nbformat": 4,
 "nbformat_minor": 2
}
