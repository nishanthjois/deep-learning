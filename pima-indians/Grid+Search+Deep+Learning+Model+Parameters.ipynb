{
 "cells": [
  {
   "cell_type": "markdown",
   "metadata": {},
   "source": [
    "We use a grid search to evaluate different configurations for our neural\n",
    "network model and report on the combination that provides the best estimated performance."
   ]
  },
  {
   "cell_type": "code",
   "execution_count": 9,
   "metadata": {
    "collapsed": false
   },
   "outputs": [],
   "source": [
    "from keras.models import Sequential\n",
    "from keras.layers import Dense\n",
    "from keras.wrappers.scikit_learn import KerasClassifier\n",
    "from sklearn.model_selection import GridSearchCV\n",
    "import numpy"
   ]
  },
  {
   "cell_type": "code",
   "execution_count": 10,
   "metadata": {
    "collapsed": true
   },
   "outputs": [],
   "source": [
    "#Create model\n",
    "def create_model(optimizer='rmsprop',init='glorot_uniform'):\n",
    "    model = Sequential()\n",
    "    model.add((Dense(12,input_dim=8,init=init,activation='relu')))\n",
    "    model.add((Dense(8,init=init,activation='relu')))\n",
    "    model.add((Dense(1,init=init,activation='sigmoid')))\n",
    "    \n",
    "    #complie the mode\n",
    "    model.compile(loss='binary_crossentropy',optimizer=optimizer,metrics=['accuracy'])\n",
    "    return model\n",
    "    "
   ]
  },
  {
   "cell_type": "code",
   "execution_count": 11,
   "metadata": {
    "collapsed": true
   },
   "outputs": [],
   "source": [
    "seed=7\n",
    "numpy.random.seed(seed)"
   ]
  },
  {
   "cell_type": "code",
   "execution_count": 12,
   "metadata": {
    "collapsed": true
   },
   "outputs": [],
   "source": [
    "dataset=numpy.loadtxt(\"pima-indians-diabetes.csv\",delimiter=\",\")"
   ]
  },
  {
   "cell_type": "code",
   "execution_count": 13,
   "metadata": {
    "collapsed": true
   },
   "outputs": [],
   "source": [
    "X=dataset[:,0:8]\n",
    "Y=dataset[:,8]"
   ]
  },
  {
   "cell_type": "code",
   "execution_count": 14,
   "metadata": {
    "collapsed": true
   },
   "outputs": [],
   "source": [
    "#create model\n",
    "model=KerasClassifier(build_fn=create_model,verbose=0)"
   ]
  },
  {
   "cell_type": "code",
   "execution_count": 15,
   "metadata": {
    "collapsed": true
   },
   "outputs": [],
   "source": [
    "# grid search epochs, batch size and optimizer\n",
    "epochs=numpy.array([2,4]) #change this to [50,100,150] on fast computer\n",
    "batches=numpy.array([2,4]) # chagne this to [5,10,25] on fast computer\n",
    "init=['glorot_uniform','normal','uniform']\n",
    "optimizers=['rmsprop','adam']"
   ]
  },
  {
   "cell_type": "code",
   "execution_count": 16,
   "metadata": {
    "collapsed": false
   },
   "outputs": [],
   "source": [
    "# create grid\n",
    "param_grid = dict(optimizer=optimizers,nb_epoch=epochs,batch_size=batches,init=init)\n",
    "grid = GridSearchCV(estimator=model,param_grid=param_grid)\n",
    "grid_result= grid.fit(X,Y)"
   ]
  },
  {
   "cell_type": "code",
   "execution_count": 17,
   "metadata": {
    "collapsed": false
   },
   "outputs": [
    {
     "name": "stdout",
     "output_type": "stream",
     "text": [
      "Best: 0.658854 using {'init': 'normal', 'optimizer': 'rmsprop', 'nb_epoch': 4, 'batch_size': 2}\n",
      "0.602865 (0.028940) with: {'init': 'glorot_uniform', 'optimizer': 'rmsprop', 'nb_epoch': 2, 'batch_size': 2}\n",
      "0.587240 (0.060627) with: {'init': 'glorot_uniform', 'optimizer': 'adam', 'nb_epoch': 2, 'batch_size': 2}\n",
      "0.656250 (0.019918) with: {'init': 'glorot_uniform', 'optimizer': 'rmsprop', 'nb_epoch': 4, 'batch_size': 2}\n",
      "0.630208 (0.036272) with: {'init': 'glorot_uniform', 'optimizer': 'adam', 'nb_epoch': 4, 'batch_size': 2}\n",
      "0.653646 (0.027498) with: {'init': 'normal', 'optimizer': 'rmsprop', 'nb_epoch': 2, 'batch_size': 2}\n",
      "0.636719 (0.016877) with: {'init': 'normal', 'optimizer': 'adam', 'nb_epoch': 2, 'batch_size': 2}\n",
      "0.658854 (0.021710) with: {'init': 'normal', 'optimizer': 'rmsprop', 'nb_epoch': 4, 'batch_size': 2}\n",
      "0.630208 (0.030145) with: {'init': 'normal', 'optimizer': 'adam', 'nb_epoch': 4, 'batch_size': 2}\n",
      "0.622396 (0.028940) with: {'init': 'uniform', 'optimizer': 'rmsprop', 'nb_epoch': 2, 'batch_size': 2}\n",
      "0.657552 (0.031948) with: {'init': 'uniform', 'optimizer': 'adam', 'nb_epoch': 2, 'batch_size': 2}\n",
      "0.656250 (0.027621) with: {'init': 'uniform', 'optimizer': 'rmsprop', 'nb_epoch': 4, 'batch_size': 2}\n",
      "0.653646 (0.027498) with: {'init': 'uniform', 'optimizer': 'adam', 'nb_epoch': 4, 'batch_size': 2}\n",
      "0.533854 (0.051953) with: {'init': 'glorot_uniform', 'optimizer': 'rmsprop', 'nb_epoch': 2, 'batch_size': 4}\n",
      "0.623698 (0.048824) with: {'init': 'glorot_uniform', 'optimizer': 'adam', 'nb_epoch': 2, 'batch_size': 4}\n",
      "0.516927 (0.125582) with: {'init': 'glorot_uniform', 'optimizer': 'rmsprop', 'nb_epoch': 4, 'batch_size': 4}\n",
      "0.595052 (0.059868) with: {'init': 'glorot_uniform', 'optimizer': 'adam', 'nb_epoch': 4, 'batch_size': 4}\n",
      "0.652344 (0.026107) with: {'init': 'normal', 'optimizer': 'rmsprop', 'nb_epoch': 2, 'batch_size': 4}\n",
      "0.649740 (0.024360) with: {'init': 'normal', 'optimizer': 'adam', 'nb_epoch': 2, 'batch_size': 4}\n",
      "0.657552 (0.028940) with: {'init': 'normal', 'optimizer': 'rmsprop', 'nb_epoch': 4, 'batch_size': 4}\n",
      "0.651042 (0.006639) with: {'init': 'normal', 'optimizer': 'adam', 'nb_epoch': 4, 'batch_size': 4}\n",
      "0.652344 (0.026107) with: {'init': 'uniform', 'optimizer': 'rmsprop', 'nb_epoch': 2, 'batch_size': 4}\n",
      "0.651042 (0.024774) with: {'init': 'uniform', 'optimizer': 'adam', 'nb_epoch': 2, 'batch_size': 4}\n",
      "0.651042 (0.024774) with: {'init': 'uniform', 'optimizer': 'rmsprop', 'nb_epoch': 4, 'batch_size': 4}\n",
      "0.658854 (0.013279) with: {'init': 'uniform', 'optimizer': 'adam', 'nb_epoch': 4, 'batch_size': 4}\n"
     ]
    },
    {
     "name": "stderr",
     "output_type": "stream",
     "text": [
      "/home/nj/anaconda2/envs/tensorflow/lib/python2.7/site-packages/sklearn/model_selection/_search.py:667: DeprecationWarning: The grid_scores_ attribute was deprecated in version 0.18 in favor of the more elaborate cv_results_ attribute. The grid_scores_ attribute will not be available from 0.20\n",
      "  DeprecationWarning)\n"
     ]
    }
   ],
   "source": [
    "#summarize results\n",
    "print(\"Best: %f using %s\" % (grid_result.best_score_, grid_result.best_params_))\n",
    "for params, mean_score, scores in grid_result.grid_scores_:\n",
    "    print(\"%f (%f) with: %r\" % (scores.mean(), scores.std(), params))"
   ]
  }
 ],
 "metadata": {
  "anaconda-cloud": {},
  "kernelspec": {
   "display_name": "Python [conda env:tensorflow]",
   "language": "python",
   "name": "conda-env-tensorflow-py"
  },
  "language_info": {
   "codemirror_mode": {
    "name": "ipython",
    "version": 2
   },
   "file_extension": ".py",
   "mimetype": "text/x-python",
   "name": "python",
   "nbconvert_exporter": "python",
   "pygments_lexer": "ipython2",
   "version": "2.7.12"
  }
 },
 "nbformat": 4,
 "nbformat_minor": 1
}
