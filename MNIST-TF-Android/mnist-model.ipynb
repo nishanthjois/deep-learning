{
 "cells": [
  {
   "cell_type": "code",
   "execution_count": 11,
   "metadata": {
    "collapsed": false
   },
   "outputs": [],
   "source": [
    "import os\n",
    "import os.path as path\n",
    "\n",
    "import keras\n",
    "from keras.datasets import mnist\n",
    "from keras.models import Sequential\n",
    "from keras.layers import Input, Dense, Dropout, Flatten\n",
    "from keras.layers import Conv2D, MaxPooling2D\n",
    "from keras import backend as K\n",
    "\n",
    "import tensorflow as tf\n",
    "from tensorflow.python.tools import freeze_graph\n",
    "from tensorflow.python.tools import optimize_for_inference_lib\n",
    "\n",
    "\n",
    "    "
   ]
  },
  {
   "cell_type": "code",
   "execution_count": 12,
   "metadata": {
    "collapsed": true
   },
   "outputs": [],
   "source": [
    "MODEL_NAME='mnist_convnet'\n",
    "EPOCHS = 1\n",
    "BATCH_SIZE=128\n",
    "\n"
   ]
  },
  {
   "cell_type": "code",
   "execution_count": 13,
   "metadata": {
    "collapsed": false
   },
   "outputs": [],
   "source": [
    "def load_data():\n",
    "    (x_train, y_train), (x_test, y_test) = mnist.load_data()\n",
    "    x_train = x_train.reshape(x_train.shape[0], 28, 28, 1)\n",
    "    x_test = x_test.reshape(x_test.shape[0], 28, 28, 1)\n",
    "    x_train = x_train.astype('float32')\n",
    "    x_test = x_test.astype('float32')\n",
    "    x_train /= 255\n",
    "    x_test /= 255\n",
    "    y_train = keras.utils.to_categorical(y_train, 10)\n",
    "    y_test = keras.utils.to_categorical(y_test, 10)\n",
    "    return x_train, y_train, x_test, y_test\n",
    "\n",
    "\n",
    "# def load_data():\n",
    "#     (x_train, y_train), (x_test, y_test) = mnist.load_data()\n",
    "#     x_train = x_train.reshape(x_train.shape[0], 28, 28, 1)\n",
    "#     x_test = x_test.reshape(x_test.shape[0], 28, 28, 1)\n",
    "#     x_train = x_train.astype('float32')\n",
    "#     x_test = x_test.astype('float32')\n",
    "#     x_train /= 255\n",
    "#     x_test /= 255\n",
    "#     y_train = keras.utils.to_categorical(y_train, 10)\n",
    "#     y_test = keras.utils.to_categorical(y_test, 10)\n",
    "#     return x_train, y_train, x_test, y_test\n"
   ]
  },
  {
   "cell_type": "code",
   "execution_count": 14,
   "metadata": {
    "collapsed": true
   },
   "outputs": [],
   "source": [
    "def build_model():\n",
    "    model=Sequential()\n",
    "    model.add(Conv2D(filters=64,kernel_size=3,strides=1,padding='same',activation='relu',input_shape=[28,28,1]))\n",
    "    \n",
    "    #Input = 28,28,64\n",
    "    model.add(MaxPooling2D(pool_size=2,strides=2,padding='same'))\n",
    "    #Output = 14,14,64\n",
    "    \n",
    "    model.add(Conv2D(filters=128,kernel_size=3,strides=1,padding='same',activation='relu'))\n",
    "    #Output = 14,14,128\n",
    "    \n",
    "    model.add(MaxPooling2D(pool_size=2,strides=2,padding='same'))\n",
    "    #Output = 7,7,128\n",
    "\n",
    "    model.add(Conv2D(filters=256,kernel_size=3,strides=1,padding='same',activation='relu'))\n",
    "    #Output = 7,7,256\n",
    "    \n",
    "    model.add(MaxPooling2D(pool_size=2,strides=2,padding='same'))\n",
    "    #Output = 4,4,256\n",
    "    \n",
    "    model.add(Flatten())\n",
    "    model.add(Dense(1024,activation='relu'))\n",
    "    #model.add(Dropout(0.2))\n",
    "    model.add(Dense(10,activation='softmax'))\n",
    "    \n",
    "    return model\n",
    "\n",
    "# def build_model():\n",
    "#     model = Sequential()\n",
    "#     model.add(Conv2D(filters=64, kernel_size=3, strides=1, \\\n",
    "#             padding='same', activation='relu', \\\n",
    "#             input_shape=[28, 28, 1]))\n",
    "#     # 28*28*64\n",
    "#     model.add(MaxPooling2D(pool_size=2, strides=2, padding='same'))\n",
    "#     # 14*14*64\n",
    "\n",
    "#     model.add(Conv2D(filters=128, kernel_size=3, strides=1, \\\n",
    "#             padding='same', activation='relu'))\n",
    "#     # 14*14*128\n",
    "#     model.add(MaxPooling2D(pool_size=2, strides=2, padding='same'))\n",
    "#     # 7*7*128\n",
    "\n",
    "#     model.add(Conv2D(filters=256, kernel_size=3, strides=1, \\\n",
    "#             padding='same', activation='relu'))\n",
    "#     # 7*7*256\n",
    "#     model.add(MaxPooling2D(pool_size=2, strides=2, padding='same'))\n",
    "#     # 4*4*256\n",
    "\n",
    "#     model.add(Flatten())\n",
    "#     model.add(Dense(1024, activation='relu'))\n",
    "#     #model.add(Dropout(0.5))\n",
    "#     model.add(Dense(10, activation='softmax'))\n",
    "#     return model\n",
    "\n",
    "  "
   ]
  },
  {
   "cell_type": "code",
   "execution_count": 15,
   "metadata": {
    "collapsed": false
   },
   "outputs": [],
   "source": [
    "def train(model, x_train, y_train, x_test, y_test):\n",
    "    model.compile(loss=keras.losses.categorical_crossentropy, \\\n",
    "                  optimizer=keras.optimizers.Adadelta(), \\\n",
    "                  metrics=['accuracy'])\n",
    "\n",
    "    model.fit(x_train, y_train, \\\n",
    "              batch_size=BATCH_SIZE, \\\n",
    "              epochs=EPOCHS, \\\n",
    "              verbose=1, \\\n",
    "              validation_data=(x_test, y_test))\n",
    "\n",
    "\n",
    "# def train(model, x_train, y_train, x_test, y_test):\n",
    "#     model.compile(loss=keras.losses.categorical_crossentropy, \\\n",
    "#                   optimizer=keras.optimizers.Adadelta(), \\\n",
    "#                   metrics=['accuracy'])\n",
    "\n",
    "#     model.fit(x_train, y_train, \\\n",
    "#               batch_size=BATCH_SIZE, \\\n",
    "#               epochs=EPOCHS, \\\n",
    "#               verbose=1, \\\n",
    "#               validation_data=(x_test, y_test))"
   ]
  },
  {
   "cell_type": "code",
   "execution_count": 16,
   "metadata": {
    "collapsed": true
   },
   "outputs": [],
   "source": [
    "def export_model(saver, model, input_node_names, output_node_name):\n",
    "    tf.train.write_graph(K.get_session().graph_def, 'out', \\\n",
    "        MODEL_NAME + '_graph.pbtxt')\n",
    "\n",
    "    saver.save(K.get_session(), 'out/' + MODEL_NAME + '.chkp')\n",
    "\n",
    "    freeze_graph.freeze_graph('out/' + MODEL_NAME + '_graph.pbtxt', None, \\\n",
    "        False, 'out/' + MODEL_NAME + '.chkp', output_node_name, \\\n",
    "        \"save/restore_all\", \"save/Const:0\", \\\n",
    "        'out/frozen_' + MODEL_NAME + '.pb', True, \"\")\n",
    "\n",
    "    input_graph_def = tf.GraphDef()\n",
    "    with tf.gfile.Open('out/frozen_' + MODEL_NAME + '.pb', \"rb\") as f:\n",
    "        input_graph_def.ParseFromString(f.read())\n",
    "\n",
    "    output_graph_def = optimize_for_inference_lib.optimize_for_inference(\n",
    "            input_graph_def, input_node_names, [output_node_name],\n",
    "            tf.float32.as_datatype_enum)\n",
    "\n",
    "    with tf.gfile.FastGFile('out/opt_' + MODEL_NAME + '.pb', \"wb\") as f:\n",
    "        f.write(output_graph_def.SerializeToString())\n",
    "\n",
    "    print(\"graph saved!\")\n",
    "    "
   ]
  },
  {
   "cell_type": "code",
   "execution_count": 17,
   "metadata": {
    "collapsed": true
   },
   "outputs": [],
   "source": [
    "# def main():\n",
    "#     x_train,y_train,x_test,y_test=load_data()\n",
    "#     model= build_model()\n",
    "#     train(model,x_train,y_train,x_test,y_test)\n",
    "#     export_model=(tf.train.Saver,model,[\"conv2d_1_input\"], \"dense_2/Softmax\")\n",
    "    \n",
    "def main():\n",
    "    if not path.exists('out'):\n",
    "        os.mkdir('out')\n",
    "\n",
    "    x_train, y_train, x_test, y_test = load_data()\n",
    "\n",
    "    model = build_model()\n",
    "\n",
    "    train(model, x_train, y_train, x_test, y_test)\n",
    "\n",
    "    export_model(tf.train.Saver(), model, [\"conv2d_1_input\"], \"dense_2/Softmax\")\n"
   ]
  },
  {
   "cell_type": "code",
   "execution_count": 18,
   "metadata": {
    "collapsed": false
   },
   "outputs": [
    {
     "name": "stdout",
     "output_type": "stream",
     "text": [
      "Train on 60000 samples, validate on 10000 samples\n",
      "Epoch 1/1\n",
      "60000/60000 [==============================] - 186s - loss: 0.2367 - acc: 0.9234 - val_loss: 0.0517 - val_acc: 0.9842\n",
      "INFO:tensorflow:Froze 10 variables.\n",
      "Converted 10 variables to const ops.\n",
      "49 ops in the final graph.\n",
      "graph saved!\n"
     ]
    }
   ],
   "source": [
    "if __name__=='__main__':\n",
    "    main()"
   ]
  },
  {
   "cell_type": "code",
   "execution_count": null,
   "metadata": {
    "collapsed": false
   },
   "outputs": [],
   "source": []
  },
  {
   "cell_type": "code",
   "execution_count": null,
   "metadata": {
    "collapsed": true
   },
   "outputs": [],
   "source": []
  },
  {
   "cell_type": "code",
   "execution_count": null,
   "metadata": {
    "collapsed": true
   },
   "outputs": [],
   "source": []
  },
  {
   "cell_type": "code",
   "execution_count": null,
   "metadata": {
    "collapsed": true
   },
   "outputs": [],
   "source": []
  },
  {
   "cell_type": "code",
   "execution_count": null,
   "metadata": {
    "collapsed": true
   },
   "outputs": [],
   "source": []
  },
  {
   "cell_type": "code",
   "execution_count": null,
   "metadata": {
    "collapsed": true
   },
   "outputs": [],
   "source": []
  }
 ],
 "metadata": {
  "anaconda-cloud": {},
  "kernelspec": {
   "display_name": "Python [conda root]",
   "language": "python",
   "name": "conda-root-py"
  },
  "language_info": {
   "codemirror_mode": {
    "name": "ipython",
    "version": 3
   },
   "file_extension": ".py",
   "mimetype": "text/x-python",
   "name": "python",
   "nbconvert_exporter": "python",
   "pygments_lexer": "ipython3",
   "version": "3.5.2"
  }
 },
 "nbformat": 4,
 "nbformat_minor": 2
}
