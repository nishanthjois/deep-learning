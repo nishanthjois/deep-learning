{
 "cells": [
  {
   "cell_type": "code",
   "execution_count": 155,
   "metadata": {
    "collapsed": false
   },
   "outputs": [],
   "source": [
    "import argparse\n",
    "import base64\n",
    "import json\n",
    "import numpy as np\n",
    "import socketio\n",
    "import eventlet\n",
    "import eventlet.wsgi\n",
    "import time\n",
    "#import utils\n",
    "from PIL import Image\n",
    "from PIL import ImageOps\n",
    "from flask import Flask, render_template\n",
    "from io import BytesIO\n",
    "from keras.optimizers import Adam\n",
    "import csv\n",
    "import json\n",
    "import cv2\n",
    "import numpy as np\n",
    "import matplotlib.image as mpimg\n",
    "from PIL import Image\n",
    "import matplotlib.pyplot as plt\n",
    "%matplotlib inline\n",
    "\n",
    "\n",
    "from keras.models import model_from_json\n",
    "from keras.preprocessing.image import ImageDataGenerator, array_to_img, img_to_array\n",
    "\n",
    "import os\n",
    "import argparse\n",
    "#import utils\n",
    "import numpy as np\n",
    "from sklearn.model_selection import train_test_split\n",
    "from keras.models import Sequential, model_from_json\n",
    "from keras.layers import Dense, Dropout, Flatten, Lambda, ELU\n",
    "from keras.callbacks import EarlyStopping, ModelCheckpoint\n",
    "from keras.layers.convolutional import Convolution2D\n",
    "from keras.optimizers import Adam\n"
   ]
  },
  {
   "cell_type": "code",
   "execution_count": 156,
   "metadata": {
    "collapsed": true
   },
   "outputs": [],
   "source": [
    "# Fix error with Keras and TensorFlow\n",
    "import tensorflow as tf\n",
    "tf.python.control_flow_ops = tf"
   ]
  },
  {
   "cell_type": "code",
   "execution_count": 157,
   "metadata": {
    "collapsed": true
   },
   "outputs": [],
   "source": [
    "DRIVING_CSV_LOG_PATH = \"data/driving_log.csv\"\n",
    "DRIVING_IMAGES_PATH = \"data/data/\""
   ]
  },
  {
   "cell_type": "code",
   "execution_count": 158,
   "metadata": {
    "collapsed": true
   },
   "outputs": [],
   "source": [
    "def image_process(data):\n",
    "    \n",
    "    #read image and convert\n",
    "    img = cv2.imread(data[0])\n",
    "    img = cv2.cvtColor(img,cv2.COLOR_BGR2RGB)\n",
    "    row,col,channels=img.shape\n",
    "\n",
    "    #trucate sky part and dashboard part\n",
    "    top=int(row*0.35)\n",
    "    bottom = int(row*0.85)\n",
    "    img = img[top:bottom,:]\n",
    "    \n",
    "    #resize\n",
    "    img=cv2.resize(img,(220,66),interpolation=cv2.INTER_AREA)\n",
    "    \n",
    "    # change brightness\n",
    "    # Note:HSV stands for hue, saturation, and value, and is also often called HSB (B for brightness). \n",
    "    percent = np.random.uniform(0.5,1.4)\n",
    "    hsv = cv2.cvtColor(img,cv2.COLOR_RGB2HSV)\n",
    "    hsv[:,:,2] = hsv[:,:,2]*percent\n",
    "    img=cv2.cvtColor(hsv,cv2.COLOR_HSV2RGB)\n",
    "    \n",
    "    #getting steering angle\n",
    "    steering_angle=float(data[1])\n",
    "    \n",
    "    #randomly filp center images\n",
    "    if (\"center\" in data[0]):\n",
    "        if np.random.randint(2)==1:\n",
    "            img = cv2.flip(img, 1)\n",
    "            steering_angle= -steering_angle\n",
    "        \n",
    "    return img, steering_angle\n",
    "    \n",
    "    \n",
    "    "
   ]
  },
  {
   "cell_type": "code",
   "execution_count": 159,
   "metadata": {
    "collapsed": true
   },
   "outputs": [],
   "source": [
    "def load_csv():\n",
    "    with open (DRIVING_CSV_LOG_PATH,'r') as file:\n",
    "        reader = csv.reader(file)\n",
    "        file.readline() #ignore header from csv file\n",
    "        data=np.array([line for line in reader])\n",
    "    return data"
   ]
  },
  {
   "cell_type": "code",
   "execution_count": 160,
   "metadata": {
    "collapsed": true
   },
   "outputs": [],
   "source": [
    "def normalize(data):\n",
    "    a = 0.01\n",
    "    b = 0.99\n",
    "    color_min = 0.0\n",
    "    color_max = 255.0\n",
    "    return a + ((data - color_min) * (b-a))/(color_max - color_min)"
   ]
  },
  {
   "cell_type": "code",
   "execution_count": 161,
   "metadata": {
    "collapsed": true
   },
   "outputs": [],
   "source": [
    "def scale_and_normalize(img):\n",
    "\timg = img[::4,::2].copy()\n",
    "\treturn img/127.5 - 1.0"
   ]
  },
  {
   "cell_type": "code",
   "execution_count": 162,
   "metadata": {
    "collapsed": true
   },
   "outputs": [],
   "source": [
    "def split_input(data):\n",
    "\tnew_data = np.zeros([0, 2]) # Will be of shape(3*len(data), 2) because 3 images for one steering angle\n",
    "\n",
    "\tfor i in range(0, len(data)):\n",
    "\t\tpath_center_images = data[:,0][i].strip()\n",
    "\t\tpath_left_images = data[:,1][i].strip()\n",
    "\t\tpath_right_images = data[:,2][i].strip()\n",
    "\t\tsteering_angle = float(data[:,3][i])\n",
    "\t\tnew_row_center = [DRIVING_IMAGES_PATH + path_center_images, steering_angle]\n",
    "\t\tnew_row_left = [DRIVING_IMAGES_PATH + path_left_images, steering_angle+0.2]\n",
    "\t\tnew_row_right = [DRIVING_IMAGES_PATH + path_right_images, steering_angle-0.2]\n",
    "\t\tnew_data = np.vstack([new_data, new_row_center])\n",
    "\t\tnew_data = np.vstack([new_data, new_row_left])\n",
    "\t\tnew_data = np.vstack([new_data, new_row_right])\n",
    "\n",
    "\tnp.savetxt(\"expanded_driving_log.csv\", new_data, delimiter=\", \", fmt=\"%s\")\n",
    "\treturn new_data"
   ]
  },
  {
   "cell_type": "code",
   "execution_count": 163,
   "metadata": {
    "collapsed": true
   },
   "outputs": [],
   "source": [
    "def save_model(model):\n",
    "\twith open('./model.json', 'w') as outfile:\n",
    "\t\tjson.dump(model.to_json(), outfile)"
   ]
  },
  {
   "cell_type": "code",
   "execution_count": 164,
   "metadata": {
    "collapsed": false
   },
   "outputs": [],
   "source": [
    "data=load_csv() #load the csv file\n",
    "data = split_input(data) #create a new csv with modified csv\n",
    "#print (data) #[['data/data/IMG/center_2016_12_01_13_30_48_287.jpg' '0.0']]"
   ]
  },
  {
   "cell_type": "code",
   "execution_count": 165,
   "metadata": {
    "collapsed": false
   },
   "outputs": [],
   "source": [
    "np.random.shuffle(data)\n",
    "y_data= np.array(data[:,1],dtype=float)\n",
    "X_train, X_val, y_train, y_val = train_test_split(data, y_data, test_size=0.1)"
   ]
  },
  {
   "cell_type": "code",
   "execution_count": 166,
   "metadata": {
    "collapsed": false
   },
   "outputs": [],
   "source": [
    "#print(X_train.shape, X_val.shape, y_train.shape, y_val.shape) #(21697, 2) (2411, 2) (21697,) (2411,)"
   ]
  },
  {
   "cell_type": "code",
   "execution_count": 167,
   "metadata": {
    "collapsed": false
   },
   "outputs": [
    {
     "name": "stdout",
     "output_type": "stream",
     "text": [
      "21697\n"
     ]
    }
   ],
   "source": [
    "print (len(X_train)) #21697\n",
    "# print (X_train[500])\n",
    "# print (y_train[500])"
   ]
  },
  {
   "cell_type": "code",
   "execution_count": 168,
   "metadata": {
    "collapsed": true
   },
   "outputs": [],
   "source": [
    "def next_batch(X_train,y_train,batch_size):\n",
    "    X=np.zeros((batch_size,66,220,3))\n",
    "    y=np.zeros(batch_size)\n",
    "    \n",
    "    while True:\n",
    "        for i in range (0,batch_size):\n",
    "            index=np.random.randint(len(X_train))\n",
    "            X[i],y[i]=image_process(X_train[index])\n",
    "        yield X,y\n",
    "    "
   ]
  },
  {
   "cell_type": "code",
   "execution_count": 169,
   "metadata": {
    "collapsed": false
   },
   "outputs": [],
   "source": [
    "def train_model(model,X_train,y_train,X_val,y_val,batch_size,nb_epoch):\n",
    "    early_stopping = EarlyStopping(monitor='val_loss',min_delta=0.0001,patience=2,verbose=0,mode='auto')\n",
    "    checkpoint=ModelCheckpoint(\"model1.h5\",monitor='val_loss',verbose=0,save_best_only=False,save_weights_only=False,mode='auto')\n",
    "    \n",
    "    model.fit_generator( generator=next_batch(X_train,y_train,batch_size),\n",
    "    samples_per_epoch=20224,\n",
    "    nb_epoch=nb_epoch,\n",
    "    validation_data=next_batch(X_val,y_val,batch_size),\n",
    "    nb_val_samples=len(X_val),\n",
    "    callbacks=[early_stopping,checkpoint]\n",
    "    )\n",
    "    \n"
   ]
  },
  {
   "cell_type": "code",
   "execution_count": 170,
   "metadata": {
    "collapsed": true
   },
   "outputs": [],
   "source": [
    "# Use the model defined in Commai following repo:\n",
    "# https://images.nvidia.com/content/tegra/automotive/images/2016/solutions/pdf/end-to-end-dl-using-px.pdf\n",
    "def get_model():\n",
    "\n",
    "\tmodel = Sequential()\n",
    "\tadam = Adam(lr=0.001)\n",
    "\n",
    "\t# Nvidia\n",
    "\tmodel.add(Lambda(lambda x: x/127.5 - 1., input_shape=(66, 220, 3), output_shape=(66, 220, 3)))\n",
    "\tmodel.add(Convolution2D(24, 5, 5, subsample=(2, 2), border_mode=\"valid\", init='he_normal'))\n",
    "\tmodel.add(ELU())\n",
    "\tmodel.add(Convolution2D(36, 5, 5, subsample=(2, 2), border_mode=\"valid\", init='he_normal'))\n",
    "\tmodel.add(ELU())\n",
    "\tmodel.add(Dropout(0.5))\n",
    "\tmodel.add(Convolution2D(48, 5, 5, subsample=(2, 2), border_mode=\"valid\", init='he_normal'))\n",
    "\tmodel.add(ELU())\n",
    "\tmodel.add(Convolution2D(64, 3, 3, subsample=(1, 1), border_mode=\"valid\", init='he_normal'))\n",
    "\tmodel.add(Dropout(0.2))\n",
    "\tmodel.add(ELU())\n",
    "\tmodel.add(Convolution2D(64, 3, 3, subsample=(1, 1), border_mode=\"valid\", init='he_normal'))\n",
    "\tmodel.add(Flatten())\n",
    "\tmodel.add(ELU())\n",
    "\tmodel.add(Dense(1164, init='he_normal'))\n",
    "\tmodel.add(ELU())\n",
    "\tmodel.add(Dense(100, init='he_normal'))\n",
    "\tmodel.add(ELU())\n",
    "\tmodel.add(Dense(50, init='he_normal'))\n",
    "\tmodel.add(ELU())\n",
    "\tmodel.add(Dense(10, init='he_normal'))\n",
    "\tmodel.add(ELU())\n",
    "\tmodel.add(Dense(1, init='he_normal'))\n",
    "\t\n",
    "\t# Use the Adam optimizer to optimize the mean squared error\n",
    "\tmodel.compile(optimizer=adam, loss=\"mse\")\t\n",
    "\n",
    "\treturn model\n"
   ]
  },
  {
   "cell_type": "code",
   "execution_count": 171,
   "metadata": {
    "collapsed": true
   },
   "outputs": [],
   "source": [
    "model = get_model()"
   ]
  },
  {
   "cell_type": "code",
   "execution_count": 173,
   "metadata": {
    "collapsed": false
   },
   "outputs": [
    {
     "name": "stdout",
     "output_type": "stream",
     "text": [
      "Epoch 1/5\n",
      "20224/20224 [==============================] - 169s - loss: 0.1262 - val_loss: 0.0331\n",
      "Epoch 2/5\n",
      "20224/20224 [==============================] - 174s - loss: 0.0295 - val_loss: 0.0340\n",
      "Epoch 3/5\n",
      "20224/20224 [==============================] - 157s - loss: 0.0257 - val_loss: 0.0243\n",
      "Epoch 4/5\n",
      "20224/20224 [==============================] - 157s - loss: 0.0239 - val_loss: 0.0219\n",
      "Epoch 5/5\n",
      "20224/20224 [==============================] - 162s - loss: 0.0225 - val_loss: 0.0244\n"
     ]
    }
   ],
   "source": [
    "train_model=train_model(model,X_train,y_train,X_val,y_val,256,5)"
   ]
  },
  {
   "cell_type": "code",
   "execution_count": 174,
   "metadata": {
    "collapsed": false
   },
   "outputs": [
    {
     "name": "stdout",
     "output_type": "stream",
     "text": [
      "Saved model to disk\n"
     ]
    }
   ],
   "source": [
    "# # serialize model to JSON\n",
    "# model_json = model.to_json()\n",
    "# with open(\"model7.json\", \"w\") as json_file:\n",
    "#     json_file.write(model_json)\n",
    "# # serialize weights to HDF5\n",
    "# # model.save_weights(\"model7.h5\")\n",
    "# # print(\"Saved model to disk\")"
   ]
  },
  {
   "cell_type": "code",
   "execution_count": null,
   "metadata": {
    "collapsed": true
   },
   "outputs": [],
   "source": [
    "#####"
   ]
  },
  {
   "cell_type": "code",
   "execution_count": 177,
   "metadata": {
    "collapsed": true
   },
   "outputs": [],
   "source": [
    "def save_model(model):\n",
    "\twith open('./model9.json', 'w') as outfile:\n",
    "\t\tjson.dump(model.to_json(), outfile)"
   ]
  },
  {
   "cell_type": "code",
   "execution_count": 178,
   "metadata": {
    "collapsed": true
   },
   "outputs": [],
   "source": [
    "save_model(model)"
   ]
  },
  {
   "cell_type": "code",
   "execution_count": null,
   "metadata": {
    "collapsed": true
   },
   "outputs": [],
   "source": []
  },
  {
   "cell_type": "code",
   "execution_count": null,
   "metadata": {
    "collapsed": true
   },
   "outputs": [],
   "source": []
  },
  {
   "cell_type": "code",
   "execution_count": 150,
   "metadata": {
    "collapsed": false
   },
   "outputs": [],
   "source": [
    "#save_model(train_model)\n",
    "from keras.models import load_model\n",
    "json_string = model.to_json()\n",
    "# with open('./model3.json', 'w') as outfile:\n",
    "# \t\tjson.dump(train_model.to_json(), outfile)"
   ]
  },
  {
   "cell_type": "code",
   "execution_count": 151,
   "metadata": {
    "collapsed": true
   },
   "outputs": [],
   "source": [
    "with open('./model4.json', 'w') as outfile:\n",
    "    json.dump(model.to_json(), outfile)"
   ]
  },
  {
   "cell_type": "code",
   "execution_count": null,
   "metadata": {
    "collapsed": true
   },
   "outputs": [],
   "source": [
    "def save_model2(train_model):\n",
    "    "
   ]
  },
  {
   "cell_type": "code",
   "execution_count": 147,
   "metadata": {
    "collapsed": true
   },
   "outputs": [],
   "source": [
    "#python drive.py model.json\n",
    "def save_model1(model, options):\n",
    "    model.compile(optimizer=adam, loss=\"mse\")\n",
    "\n",
    "    json_string = model.to_json()\n",
    "    open(options['file_arch'], 'w').write(json_string)\n",
    "    model.save_weights(options['file_weight'])\n",
    "\n",
    "def load_model(options):\n",
    "    model = model_from_json(open(options['file_arch']).read())\n",
    "    model.compile(loss='categorical_crossentropy', optimizer='sgd', metrics=['accuracy'])\n",
    "    model.load_weights(options['file_weight'])\n",
    "    return model"
   ]
  },
  {
   "cell_type": "code",
   "execution_count": null,
   "metadata": {
    "collapsed": true
   },
   "outputs": [],
   "source": []
  },
  {
   "cell_type": "code",
   "execution_count": 148,
   "metadata": {
    "collapsed": false
   },
   "outputs": [
    {
     "ename": "AttributeError",
     "evalue": "'NoneType' object has no attribute 'compile'",
     "output_type": "error",
     "traceback": [
      "\u001b[0;31m---------------------------------------------------------------------------\u001b[0m",
      "\u001b[0;31mAttributeError\u001b[0m                            Traceback (most recent call last)",
      "\u001b[0;32m<ipython-input-148-96e5c108daff>\u001b[0m in \u001b[0;36m<module>\u001b[0;34m()\u001b[0m\n\u001b[0;32m----> 1\u001b[0;31m \u001b[0msave_model1\u001b[0m\u001b[0;34m(\u001b[0m\u001b[0mtrain_model\u001b[0m\u001b[0;34m,\u001b[0m\u001b[0;34m'a'\u001b[0m\u001b[0;34m)\u001b[0m\u001b[0;34m\u001b[0m\u001b[0m\n\u001b[0m",
      "\u001b[0;32m<ipython-input-147-a3396244ea48>\u001b[0m in \u001b[0;36msave_model1\u001b[0;34m(model, options)\u001b[0m\n\u001b[1;32m      1\u001b[0m \u001b[0;31m#python drive.py model.json\u001b[0m\u001b[0;34m\u001b[0m\u001b[0;34m\u001b[0m\u001b[0m\n\u001b[1;32m      2\u001b[0m \u001b[0;32mdef\u001b[0m \u001b[0msave_model1\u001b[0m\u001b[0;34m(\u001b[0m\u001b[0mmodel\u001b[0m\u001b[0;34m,\u001b[0m \u001b[0moptions\u001b[0m\u001b[0;34m)\u001b[0m\u001b[0;34m:\u001b[0m\u001b[0;34m\u001b[0m\u001b[0m\n\u001b[0;32m----> 3\u001b[0;31m     \u001b[0mmodel\u001b[0m\u001b[0;34m.\u001b[0m\u001b[0mcompile\u001b[0m\u001b[0;34m(\u001b[0m\u001b[0moptimizer\u001b[0m\u001b[0;34m=\u001b[0m\u001b[0madam\u001b[0m\u001b[0;34m,\u001b[0m \u001b[0mloss\u001b[0m\u001b[0;34m=\u001b[0m\u001b[0;34m\"mse\"\u001b[0m\u001b[0;34m)\u001b[0m\u001b[0;34m\u001b[0m\u001b[0m\n\u001b[0m\u001b[1;32m      4\u001b[0m \u001b[0;34m\u001b[0m\u001b[0m\n\u001b[1;32m      5\u001b[0m     \u001b[0mjson_string\u001b[0m \u001b[0;34m=\u001b[0m \u001b[0mmodel\u001b[0m\u001b[0;34m.\u001b[0m\u001b[0mto_json\u001b[0m\u001b[0;34m(\u001b[0m\u001b[0;34m)\u001b[0m\u001b[0;34m\u001b[0m\u001b[0m\n",
      "\u001b[0;31mAttributeError\u001b[0m: 'NoneType' object has no attribute 'compile'"
     ]
    }
   ],
   "source": [
    "save_model1(train_model,'a')"
   ]
  },
  {
   "cell_type": "code",
   "execution_count": null,
   "metadata": {
    "collapsed": true
   },
   "outputs": [],
   "source": []
  },
  {
   "cell_type": "code",
   "execution_count": null,
   "metadata": {
    "collapsed": true
   },
   "outputs": [],
   "source": [
    "###############################33"
   ]
  },
  {
   "cell_type": "code",
   "execution_count": 4,
   "metadata": {
    "collapsed": true
   },
   "outputs": [],
   "source": [
    "def load_csv():\n",
    "    with open (DRIVING_CSV_LOG_PATH,'r') as file:\n",
    "        reader = csv.reader(file)\n",
    "        file.readline() #ignore header from csv file\n",
    "        data=np.array([line for line in reader])\n",
    "    return data"
   ]
  },
  {
   "cell_type": "code",
   "execution_count": 5,
   "metadata": {
    "collapsed": false
   },
   "outputs": [
    {
     "name": "stdout",
     "output_type": "stream",
     "text": [
      "[['IMG/center_2016_12_01_13_30_48_287.jpg'\n",
      "  ' IMG/left_2016_12_01_13_30_48_287.jpg'\n",
      "  ' IMG/right_2016_12_01_13_30_48_287.jpg' ..., ' 0' ' 0' ' 22.14829']\n",
      " ['IMG/center_2016_12_01_13_30_48_404.jpg'\n",
      "  ' IMG/left_2016_12_01_13_30_48_404.jpg'\n",
      "  ' IMG/right_2016_12_01_13_30_48_404.jpg' ..., ' 0' ' 0' ' 21.87963']\n",
      " ['IMG/center_2016_12_01_13_31_12_937.jpg'\n",
      "  ' IMG/left_2016_12_01_13_31_12_937.jpg'\n",
      "  ' IMG/right_2016_12_01_13_31_12_937.jpg' ..., ' 0' ' 0' ' 1.453011']\n",
      " ..., \n",
      " ['IMG/center_2016_12_01_13_46_38_846.jpg'\n",
      "  ' IMG/left_2016_12_01_13_46_38_846.jpg'\n",
      "  ' IMG/right_2016_12_01_13_46_38_846.jpg' ..., ' 0' ' 0' ' 1.388364']\n",
      " ['IMG/center_2016_12_01_13_46_38_922.jpg'\n",
      "  ' IMG/left_2016_12_01_13_46_38_922.jpg'\n",
      "  ' IMG/right_2016_12_01_13_46_38_922.jpg' ..., ' 0' ' 0' ' 1.377208']\n",
      " ['IMG/center_2016_12_01_13_46_38_947.jpg'\n",
      "  ' IMG/left_2016_12_01_13_46_38_947.jpg'\n",
      "  ' IMG/right_2016_12_01_13_46_38_947.jpg' ..., ' 0' ' 0' ' 1.374433']]\n"
     ]
    }
   ],
   "source": [
    "loaded_csv=load_csv()\n",
    "print(loaded_csv)"
   ]
  },
  {
   "cell_type": "code",
   "execution_count": 6,
   "metadata": {
    "collapsed": true
   },
   "outputs": [],
   "source": [
    "# columns = ['center','left', 'right', 'angle', 'throttle', 'break', 'speed']\n",
    "# df_main_track = pd.read_csv(DRIVING_CSV_LOG_PATH, names=columns)\n",
    "# df_main_edges = pd.read_csv(DRIVING_CSV_LOG_PATH\", names=columns)\n",
    "# df_main_udacity = pd.read_csv(\"main-track-udacity/driving_log.csv\")\n",
    "# df_main_good_quality = pd.read_csv(\"main-track-good-quality/driving_log.csv\", names=columns)\n",
    "# df_first = pd.read_csv(\"driving_log.csv\", names=columns)"
   ]
  },
  {
   "cell_type": "code",
   "execution_count": 7,
   "metadata": {
    "collapsed": true
   },
   "outputs": [],
   "source": [
    "def split_input(data):\n",
    "\tnew_data = np.zeros([0, 2]) # Will be of shape(3*len(data), 2) because 3 images for one steering angle\n",
    "\n",
    "\tfor i in range(0, len(data)):\n",
    "\t\tpath_center_images = data[:,0][i].strip()\n",
    "\t\tpath_left_images = data[:,1][i].strip()\n",
    "\t\tpath_right_images = data[:,2][i].strip()\n",
    "\t\tsteering_angle = float(data[:,3][i])\n",
    "\t\tnew_row_center = [DRIVING_IMAGES_PATH + path_center_images, steering_angle]\n",
    "\t\tnew_row_left = [DRIVING_IMAGES_PATH + path_left_images, steering_angle+0.2]\n",
    "\t\tnew_row_right = [DRIVING_IMAGES_PATH + path_right_images, steering_angle-0.2]\n",
    "\t\tnew_data = np.vstack([new_data, new_row_center])\n",
    "\t\tnew_data = np.vstack([new_data, new_row_left])\n",
    "\t\tnew_data = np.vstack([new_data, new_row_right])\n",
    "\n",
    "\tnp.savetxt(\"expanded_driving_log.csv\", new_data, delimiter=\", \", fmt=\"%s\")\n",
    "\treturn new_data\n",
    "# df_main_udacity['angle'] = df_main_udacity['steering']\n",
    "# path = '/Users/lacho/sdcnd/Self-Driving-Car-Simulator/main-track-udacity/'\n",
    "# df_main_udacity['center'] = path + df_main_udacity['center'].str.strip()\n",
    "# df_main_udacity['left'] = path + df_main_udacity['left'].str.strip()\n",
    "# df_main_udacity['right'] = path + df_main_udacity['right'].str.strip()"
   ]
  },
  {
   "cell_type": "code",
   "execution_count": 8,
   "metadata": {
    "collapsed": true
   },
   "outputs": [],
   "source": [
    "\n",
    "# print(df_main_track.shape)\n",
    "# print(df_main_edges.shape)\n",
    "# print(df_main_udacity.shape)\n",
    "# print(df_main_good_quality.shape)\n",
    "# print(df_first.shape)"
   ]
  },
  {
   "cell_type": "code",
   "execution_count": 9,
   "metadata": {
    "collapsed": false
   },
   "outputs": [],
   "source": []
  },
  {
   "cell_type": "code",
   "execution_count": 10,
   "metadata": {
    "collapsed": false
   },
   "outputs": [],
   "source": [
    "data=split_input(loaded_csv)"
   ]
  },
  {
   "cell_type": "code",
   "execution_count": 11,
   "metadata": {
    "collapsed": true
   },
   "outputs": [],
   "source": [
    "def scale(img):\n",
    "    row,col,channel=img.shape\n",
    "    top=int(row*0.3)\n",
    "    bottom=int(row*0.8)\n",
    "    img = img[top:bottom,:]\n",
    "    img=cv2.resize(img,(220,66),interpolation=cv2.INTER_AREA)\n",
    "    return img"
   ]
  },
  {
   "cell_type": "code",
   "execution_count": null,
   "metadata": {
    "collapsed": true
   },
   "outputs": [],
   "source": [
    "# def load_img(path):\n",
    "#     try:\n",
    "#         img=cv2.imread(path)\n",
    "#         img = cv2.cvtColor(img,cv2.COLOR_BAYER_BGR2RGB)\n",
    "#         img = scale(img)\n",
    "#     except:\n",
    "#         print (\"Error loading file\")\n",
    "#         print (path)\n",
    "#     return img\n",
    "\n",
    "    "
   ]
  },
  {
   "cell_type": "code",
   "execution_count": null,
   "metadata": {
    "collapsed": true
   },
   "outputs": [],
   "source": [
    "# def data_generator(x,batch_size,iterations=1000):\n",
    "#     for i in range(iterations):\n",
    "#         imgs = np.array([load_img(x) for x in batch_size])\n",
    "#         angles = np.array\n",
    "    "
   ]
  },
  {
   "cell_type": "code",
   "execution_count": null,
   "metadata": {
    "collapsed": true
   },
   "outputs": [],
   "source": []
  },
  {
   "cell_type": "code",
   "execution_count": null,
   "metadata": {
    "collapsed": true
   },
   "outputs": [],
   "source": []
  },
  {
   "cell_type": "code",
   "execution_count": null,
   "metadata": {
    "collapsed": true
   },
   "outputs": [],
   "source": []
  },
  {
   "cell_type": "code",
   "execution_count": null,
   "metadata": {
    "collapsed": true
   },
   "outputs": [],
   "source": []
  },
  {
   "cell_type": "code",
   "execution_count": 13,
   "metadata": {
    "collapsed": false
   },
   "outputs": [
    {
     "name": "stdout",
     "output_type": "stream",
     "text": [
      "['data/data/IMG/center_2016_12_01_13_30_48_287.jpg'\n",
      " 'data/data/IMG/left_2016_12_01_13_30_48_287.jpg'\n",
      " 'data/data/IMG/right_2016_12_01_13_30_48_287.jpg' ...,\n",
      " 'data/data/IMG/center_2016_12_01_13_46_38_947.jpg'\n",
      " 'data/data/IMG/left_2016_12_01_13_46_38_947.jpg'\n",
      " 'data/data/IMG/right_2016_12_01_13_46_38_947.jpg']\n"
     ]
    }
   ],
   "source": [
    "y_data = np.array(data[:,1], dtype=float)\n",
    "x_data = np.array(data[:,0])\n",
    "\n",
    "print (x_data)\n"
   ]
  },
  {
   "cell_type": "code",
   "execution_count": null,
   "metadata": {
    "collapsed": true
   },
   "outputs": [],
   "source": []
  },
  {
   "cell_type": "code",
   "execution_count": null,
   "metadata": {
    "collapsed": true
   },
   "outputs": [],
   "source": []
  },
  {
   "cell_type": "code",
   "execution_count": null,
   "metadata": {
    "collapsed": true
   },
   "outputs": [],
   "source": []
  },
  {
   "cell_type": "code",
   "execution_count": null,
   "metadata": {
    "collapsed": true
   },
   "outputs": [],
   "source": []
  },
  {
   "cell_type": "code",
   "execution_count": null,
   "metadata": {
    "collapsed": true
   },
   "outputs": [],
   "source": []
  },
  {
   "cell_type": "code",
   "execution_count": null,
   "metadata": {
    "collapsed": true
   },
   "outputs": [],
   "source": []
  },
  {
   "cell_type": "code",
   "execution_count": null,
   "metadata": {
    "collapsed": true
   },
   "outputs": [],
   "source": []
  },
  {
   "cell_type": "code",
   "execution_count": null,
   "metadata": {
    "collapsed": false
   },
   "outputs": [],
   "source": [
    "X_train=[]\n",
    "result_img= []\n",
    "for i in range(len(x_data)):\n",
    "    result_img = cv2.imread(x_data[i])\n",
    "    X_train=np.append(X_train,result_img)\n",
    "\n",
    "#plt.imshow(result_img[100])"
   ]
  },
  {
   "cell_type": "code",
   "execution_count": null,
   "metadata": {
    "collapsed": true
   },
   "outputs": [],
   "source": []
  },
  {
   "cell_type": "code",
   "execution_count": null,
   "metadata": {
    "collapsed": true
   },
   "outputs": [],
   "source": []
  },
  {
   "cell_type": "code",
   "execution_count": null,
   "metadata": {
    "collapsed": true
   },
   "outputs": [],
   "source": []
  },
  {
   "cell_type": "code",
   "execution_count": null,
   "metadata": {
    "collapsed": true
   },
   "outputs": [],
   "source": []
  },
  {
   "cell_type": "code",
   "execution_count": null,
   "metadata": {
    "collapsed": false
   },
   "outputs": [],
   "source": [
    "print (result_img)"
   ]
  },
  {
   "cell_type": "code",
   "execution_count": null,
   "metadata": {
    "collapsed": true
   },
   "outputs": [],
   "source": []
  },
  {
   "cell_type": "code",
   "execution_count": null,
   "metadata": {
    "collapsed": false
   },
   "outputs": [],
   "source": [
    "\n",
    "for i in range(len(x_data)):\n",
    "    new = scale(result_img[i])\n",
    "    X_train.append((X_train,new))"
   ]
  },
  {
   "cell_type": "code",
   "execution_count": 47,
   "metadata": {
    "collapsed": false
   },
   "outputs": [
    {
     "name": "stdout",
     "output_type": "stream",
     "text": [
      "[ 0.   0.2 -0.2 ...,  0.   0.2 -0.2]\n"
     ]
    }
   ],
   "source": [
    "print (y_data)"
   ]
  },
  {
   "cell_type": "code",
   "execution_count": 50,
   "metadata": {
    "collapsed": false
   },
   "outputs": [
    {
     "name": "stdout",
     "output_type": "stream",
     "text": [
      "['data/data/IMG/center_2016_12_01_13_30_48_287.jpg'\n",
      " 'data/data/ IMG/left_2016_12_01_13_30_48_287.jpg'\n",
      " 'data/data/ IMG/right_2016_12_01_13_30_48_287.jpg' ...,\n",
      " 'data/data/IMG/center_2016_12_01_13_46_38_947.jpg'\n",
      " 'data/data/ IMG/left_2016_12_01_13_46_38_947.jpg'\n",
      " 'data/data/ IMG/right_2016_12_01_13_46_38_947.jpg']\n"
     ]
    }
   ],
   "source": [
    "print (x_data)"
   ]
  },
  {
   "cell_type": "code",
   "execution_count": null,
   "metadata": {
    "collapsed": true
   },
   "outputs": [],
   "source": []
  },
  {
   "cell_type": "code",
   "execution_count": null,
   "metadata": {
    "collapsed": true
   },
   "outputs": [],
   "source": []
  }
 ],
 "metadata": {
  "anaconda-cloud": {},
  "kernelspec": {
   "display_name": "Python [conda root]",
   "language": "python",
   "name": "conda-root-py"
  },
  "language_info": {
   "codemirror_mode": {
    "name": "ipython",
    "version": 3
   },
   "file_extension": ".py",
   "mimetype": "text/x-python",
   "name": "python",
   "nbconvert_exporter": "python",
   "pygments_lexer": "ipython3",
   "version": "3.5.2"
  }
 },
 "nbformat": 4,
 "nbformat_minor": 1
}
