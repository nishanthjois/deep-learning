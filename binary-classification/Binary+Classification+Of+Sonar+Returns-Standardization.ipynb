{
 "cells": [
  {
   "cell_type": "markdown",
   "metadata": {},
   "source": [
    "**Binary Classification Of Sonar\n",
    "Returns with an extra layer of neural network and standardization using pipeline**"
   ]
  },
  {
   "cell_type": "code",
   "execution_count": 26,
   "metadata": {
    "collapsed": false
   },
   "outputs": [],
   "source": [
    "import numpy\n",
    "import pandas\n",
    "from keras.models import Sequential\n",
    "from keras.layers import Dense\n",
    "from keras.wrappers.scikit_learn import KerasClassifier\n",
    "from sklearn.model_selection import cross_val_score\n",
    "from sklearn.preprocessing import LabelEncoder\n",
    "from sklearn.model_selection import StratifiedKFold\n",
    "from sklearn.preprocessing import StandardScaler\n",
    "from sklearn.pipeline import Pipeline"
   ]
  },
  {
   "cell_type": "code",
   "execution_count": 27,
   "metadata": {
    "collapsed": true
   },
   "outputs": [],
   "source": [
    "# fix random seed for reproducibility\n",
    "seed = 7\n",
    "numpy.random.seed(seed)"
   ]
  },
  {
   "cell_type": "code",
   "execution_count": 28,
   "metadata": {
    "collapsed": true
   },
   "outputs": [],
   "source": [
    "# load dataset using pandas\n",
    "dataframe = pandas.read_csv(\"sonar.csv\", header=None)\n",
    "dataset = dataframe.values\n",
    "X=dataset[:,0:60].astype(float)\n",
    "Y=dataset[:,60]"
   ]
  },
  {
   "cell_type": "code",
   "execution_count": 29,
   "metadata": {
    "collapsed": false
   },
   "outputs": [],
   "source": [
    "# encode class values as integers - output values are letters \n",
    "# M or R - conver them to 0 or 1\n",
    "encoder = LabelEncoder()\n",
    "encoder.fit(Y)\n",
    "encoded_Y = encoder.transform(Y)"
   ]
  },
  {
   "cell_type": "code",
   "execution_count": 30,
   "metadata": {
    "collapsed": false,
    "scrolled": true
   },
   "outputs": [
    {
     "name": "stdout",
     "output_type": "stream",
     "text": [
      "['R' 'R' 'R' 'R' 'R']\n"
     ]
    }
   ],
   "source": [
    "print (Y[0:5])"
   ]
  },
  {
   "cell_type": "markdown",
   "metadata": {},
   "source": [
    "**We are going to use\n",
    "scikit-learn to evaluate the model using *stratified k-fold cross validation. *This is a resampling\n",
    "technique that will provide an estimate of the performance of the model. **\n",
    "\n",
    "**To use Keras models\n",
    "with scikit-learn, we must use the KerasClassifier wrapper. This class takes a function that\n",
    "creates and returns our neural network model. **"
   ]
  },
  {
   "cell_type": "code",
   "execution_count": 31,
   "metadata": {
    "collapsed": true
   },
   "outputs": [],
   "source": [
    "# create baseline model\n",
    "def create_baseline():\n",
    "    model = Sequential()\n",
    "    model.add(Dense(60,input_dim=60,init='normal',activation='relu'))\n",
    "    # Additional network to improve accuracy \n",
    "    # The idea here is that the network is given the opportunity to model all input variables\n",
    "    # before being bottlenecked and forced to halve the representational capacity (if we made input 30 instead of 60)\n",
    "    model.add(Dense(30, init= 'normal' , activation= 'relu' ))\n",
    "    model.add(Dense(1,init='normal',activation='sigmoid'))\n",
    "    \n",
    "    #compile model\n",
    "    model.compile(loss='binary_crossentropy',optimizer='adam',metrics=['accuracy'])\n",
    "    return model"
   ]
  },
  {
   "cell_type": "markdown",
   "metadata": {},
   "source": [
    "**Standardization.\n",
    "    This is where the data is rescaled such that the mean value for each attribute is 0 and the standard deviation is 1. \n",
    "    This preserves Gaussian and Gaussian-like distributions whilst normalizing the central tendencies for each attribute\n",
    "   Ex: StandardScaler **"
   ]
  },
  {
   "cell_type": "markdown",
   "metadata": {},
   "source": [
    "** Pipeline\n",
    "    Rather than performing the standardization on the entire dataset, it is\n",
    "    good practice to train the standardization procedure on the training data within the pass of a\n",
    "    cross validation run and to use the trained standardization instance to prepare the unseen test\n",
    "    fold. **\n",
    "\n",
    "** The pipeline is a wrapper that executes one or more models within a pass of the cross validation procedure. **"
   ]
  },
  {
   "cell_type": "code",
   "execution_count": 32,
   "metadata": {
    "collapsed": false
   },
   "outputs": [
    {
     "name": "stdout",
     "output_type": "stream",
     "text": [
      "Baseline: 84.09% (4.39%)\n"
     ]
    }
   ],
   "source": [
    "# evaluate model with standardized dataset\n",
    "# estimator = KerasClassifier(build_fn=create_baseline, nb_epoch=100, batch_size=5, verbose=0) -- this code is used \n",
    "#when StandardScaler and Pipeline class for standarization are not applied\n",
    "\n",
    "estimators=[]\n",
    "estimators.append(('standardize', StandardScaler()))\n",
    "estimators.append(('mlp', KerasClassifier(build_fn=create_baseline,nb_epoch=100,batch_size=5,verbose=0)))\n",
    "\n",
    "pipeline=Pipeline(estimators)\n",
    "\n",
    "kfold = StratifiedKFold(n_splits=10, shuffle=True, random_state=seed)\n",
    "\n",
    "results = cross_val_score(pipeline, X, encoded_Y, cv=kfold)\n",
    "print(\"Baseline: %.2f%% (%.2f%%)\" % (results.mean()*100, results.std()*100))"
   ]
  }
 ],
 "metadata": {
  "anaconda-cloud": {},
  "kernelspec": {
   "display_name": "Python [conda env:tensorflow]",
   "language": "python",
   "name": "conda-env-tensorflow-py"
  },
  "language_info": {
   "codemirror_mode": {
    "name": "ipython",
    "version": 2
   },
   "file_extension": ".py",
   "mimetype": "text/x-python",
   "name": "python",
   "nbconvert_exporter": "python",
   "pygments_lexer": "ipython2",
   "version": "2.7.12"
  }
 },
 "nbformat": 4,
 "nbformat_minor": 1
}
